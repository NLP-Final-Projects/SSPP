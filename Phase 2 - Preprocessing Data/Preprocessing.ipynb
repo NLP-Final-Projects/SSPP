{
  "nbformat": 4,
  "nbformat_minor": 0,
  "metadata": {
    "colab": {
      "provenance": []
    },
    "kernelspec": {
      "name": "python3",
      "display_name": "Python 3"
    },
    "language_info": {
      "name": "python"
    }
  },
  "cells": [
    {
      "cell_type": "code",
      "execution_count": 1,
      "metadata": {
        "colab": {
          "base_uri": "https://localhost:8080/"
        },
        "id": "0aONTavu4HGJ",
        "outputId": "83378f0e-0cfa-46e3-b912-d3ea2de1e991"
      },
      "outputs": [
        {
          "output_type": "stream",
          "name": "stdout",
          "text": [
            "Collecting pyunpack\n",
            "  Downloading pyunpack-0.3-py2.py3-none-any.whl.metadata (863 bytes)\n",
            "Collecting patool\n",
            "  Downloading patool-2.3.0-py2.py3-none-any.whl.metadata (4.0 kB)\n",
            "Requirement already satisfied: pandas in /usr/local/lib/python3.10/dist-packages (2.1.4)\n",
            "Collecting easyprocess (from pyunpack)\n",
            "  Downloading EasyProcess-1.1-py3-none-any.whl.metadata (855 bytes)\n",
            "Collecting entrypoint2 (from pyunpack)\n",
            "  Downloading entrypoint2-1.1-py2.py3-none-any.whl.metadata (1.0 kB)\n",
            "Requirement already satisfied: numpy<2,>=1.22.4 in /usr/local/lib/python3.10/dist-packages (from pandas) (1.26.4)\n",
            "Requirement already satisfied: python-dateutil>=2.8.2 in /usr/local/lib/python3.10/dist-packages (from pandas) (2.8.2)\n",
            "Requirement already satisfied: pytz>=2020.1 in /usr/local/lib/python3.10/dist-packages (from pandas) (2024.1)\n",
            "Requirement already satisfied: tzdata>=2022.1 in /usr/local/lib/python3.10/dist-packages (from pandas) (2024.1)\n",
            "Requirement already satisfied: six>=1.5 in /usr/local/lib/python3.10/dist-packages (from python-dateutil>=2.8.2->pandas) (1.16.0)\n",
            "Downloading pyunpack-0.3-py2.py3-none-any.whl (4.1 kB)\n",
            "Downloading patool-2.3.0-py2.py3-none-any.whl (96 kB)\n",
            "\u001b[2K   \u001b[90m━━━━━━━━━━━━━━━━━━━━━━━━━━━━━━━━━━━━━━━━\u001b[0m \u001b[32m96.6/96.6 kB\u001b[0m \u001b[31m1.9 MB/s\u001b[0m eta \u001b[36m0:00:00\u001b[0m\n",
            "\u001b[?25hDownloading EasyProcess-1.1-py3-none-any.whl (8.7 kB)\n",
            "Downloading entrypoint2-1.1-py2.py3-none-any.whl (9.9 kB)\n",
            "Installing collected packages: entrypoint2, easyprocess, pyunpack, patool\n",
            "Successfully installed easyprocess-1.1 entrypoint2-1.1 patool-2.3.0 pyunpack-0.3\n"
          ]
        }
      ],
      "source": [
        "!pip install pyunpack patool pandas"
      ]
    },
    {
      "cell_type": "code",
      "source": [
        "!wget -O dataset.rar https://github.com/NLP-Final-Projects/SSPP/raw/main/Phase%201%20-%20Data%20Collection/nlp-finalproject-sspp-dataset.rar"
      ],
      "metadata": {
        "colab": {
          "base_uri": "https://localhost:8080/"
        },
        "id": "VC5etmJK426j",
        "outputId": "b0ec7862-86f8-41b0-9bcf-6ef3a2cefe10"
      },
      "execution_count": 2,
      "outputs": [
        {
          "output_type": "stream",
          "name": "stdout",
          "text": [
            "--2024-07-30 05:52:40--  https://github.com/NLP-Final-Projects/SSPP/raw/main/Phase%201%20-%20Data%20Collection/nlp-finalproject-sspp-dataset.rar\n",
            "Resolving github.com (github.com)... 140.82.114.3\n",
            "Connecting to github.com (github.com)|140.82.114.3|:443... connected.\n",
            "HTTP request sent, awaiting response... 302 Found\n",
            "Location: https://raw.githubusercontent.com/NLP-Final-Projects/SSPP/main/Phase%201%20-%20Data%20Collection/nlp-finalproject-sspp-dataset.rar [following]\n",
            "--2024-07-30 05:52:41--  https://raw.githubusercontent.com/NLP-Final-Projects/SSPP/main/Phase%201%20-%20Data%20Collection/nlp-finalproject-sspp-dataset.rar\n",
            "Resolving raw.githubusercontent.com (raw.githubusercontent.com)... 185.199.108.133, 185.199.109.133, 185.199.110.133, ...\n",
            "Connecting to raw.githubusercontent.com (raw.githubusercontent.com)|185.199.108.133|:443... connected.\n",
            "HTTP request sent, awaiting response... 200 OK\n",
            "Length: 102179768 (97M) [application/octet-stream]\n",
            "Saving to: ‘dataset.rar’\n",
            "\n",
            "dataset.rar         100%[===================>]  97.45M   196MB/s    in 0.5s    \n",
            "\n",
            "2024-07-30 05:52:43 (196 MB/s) - ‘dataset.rar’ saved [102179768/102179768]\n",
            "\n"
          ]
        }
      ]
    },
    {
      "cell_type": "code",
      "source": [
        "from pyunpack import Archive\n",
        "import os\n",
        "\n",
        "extract_dir = 'extracted_files'\n",
        "os.makedirs(extract_dir, exist_ok=True)\n",
        "\n",
        "Archive('dataset.rar').extractall(extract_dir)"
      ],
      "metadata": {
        "id": "8U-APYOE45QC"
      },
      "execution_count": 3,
      "outputs": []
    },
    {
      "cell_type": "code",
      "source": [
        "import pandas as pd\n",
        "import glob\n",
        "\n",
        "csv_files = glob.glob(os.path.join(extract_dir, '**', '*.csv'), recursive=True)\n",
        "\n",
        "dfs = []\n",
        "\n",
        "for csv_file in csv_files:\n",
        "    df = pd.read_csv(csv_file)\n",
        "    dfs.append(df)\n",
        "\n",
        "merged_df = pd.concat(dfs, ignore_index=True)"
      ],
      "metadata": {
        "id": "X1V-YEVy5H0Z"
      },
      "execution_count": 4,
      "outputs": []
    },
    {
      "cell_type": "code",
      "source": [
        "import shutil\n",
        "\n",
        "shutil.rmtree(extract_dir)"
      ],
      "metadata": {
        "id": "9AsGZABrG30q"
      },
      "execution_count": 5,
      "outputs": []
    },
    {
      "cell_type": "code",
      "source": [
        "os.remove('dataset.rar')"
      ],
      "metadata": {
        "id": "2HKVo1vaJzVK"
      },
      "execution_count": 6,
      "outputs": []
    },
    {
      "cell_type": "code",
      "source": [
        "filtered_df = merged_df.dropna(subset=[\"Functionality\", \"Publications\"], how='all')\n",
        "\n",
        "sorted_df = filtered_df.sort_values(by=\"PDB ID\")\n",
        "\n",
        "df = sorted_df"
      ],
      "metadata": {
        "id": "iDU4lPlZ87Kf"
      },
      "execution_count": 7,
      "outputs": []
    },
    {
      "cell_type": "code",
      "source": [
        "print(len(df))"
      ],
      "metadata": {
        "colab": {
          "base_uri": "https://localhost:8080/"
        },
        "id": "SaHHBk3i7zfY",
        "outputId": "adf60d20-0649-437e-be78-7f118527951b"
      },
      "execution_count": 8,
      "outputs": [
        {
          "output_type": "stream",
          "name": "stdout",
          "text": [
            "156588\n"
          ]
        }
      ]
    },
    {
      "cell_type": "code",
      "source": [
        "df.head()"
      ],
      "metadata": {
        "colab": {
          "base_uri": "https://localhost:8080/",
          "height": 310
        },
        "id": "biEWZ0NK5RAk",
        "outputId": "8dd4f0e8-6e9f-4381-a106-c0facae50045"
      },
      "execution_count": 9,
      "outputs": [
        {
          "output_type": "execute_result",
          "data": {
            "text/plain": [
              "      PDB ID Protein Name UniProt ID  \\\n",
              "89916   101M    Myoglobin     P02185   \n",
              "89917   102L    Endolysin     P00720   \n",
              "89918   102M    Myoglobin     P02185   \n",
              "89919   103L    Endolysin     P00720   \n",
              "89920   103M    Myoglobin     P02185   \n",
              "\n",
              "                                           Functionality Publications  \\\n",
              "89916  Monomeric heme protein which primary function ...          NaN   \n",
              "89917  Endolysin with lysozyme activity that degrades...          NaN   \n",
              "89918  Monomeric heme protein which primary function ...          NaN   \n",
              "89919  Endolysin with lysozyme activity that degrades...          NaN   \n",
              "89920  Monomeric heme protein which primary function ...          NaN   \n",
              "\n",
              "                                 Secondary Structures Q8  \n",
              "89916  [('M', '-'), ('V', '-'), ('L', '-'), ('S', '-'...  \n",
              "89917  [('M', '-'), ('N', '-'), ('I', 'H'), ('F', 'H'...  \n",
              "89918  [('M', '-'), ('V', '-'), ('L', '-'), ('S', '-'...  \n",
              "89919  [('M', '-'), ('N', '-'), ('I', 'H'), ('F', 'H'...  \n",
              "89920  [('M', '-'), ('V', '-'), ('L', '-'), ('S', '-'...  "
            ],
            "text/html": [
              "\n",
              "  <div id=\"df-e52f3b25-dfcc-44a3-82b1-5cad8009f15f\" class=\"colab-df-container\">\n",
              "    <div>\n",
              "<style scoped>\n",
              "    .dataframe tbody tr th:only-of-type {\n",
              "        vertical-align: middle;\n",
              "    }\n",
              "\n",
              "    .dataframe tbody tr th {\n",
              "        vertical-align: top;\n",
              "    }\n",
              "\n",
              "    .dataframe thead th {\n",
              "        text-align: right;\n",
              "    }\n",
              "</style>\n",
              "<table border=\"1\" class=\"dataframe\">\n",
              "  <thead>\n",
              "    <tr style=\"text-align: right;\">\n",
              "      <th></th>\n",
              "      <th>PDB ID</th>\n",
              "      <th>Protein Name</th>\n",
              "      <th>UniProt ID</th>\n",
              "      <th>Functionality</th>\n",
              "      <th>Publications</th>\n",
              "      <th>Secondary Structures Q8</th>\n",
              "    </tr>\n",
              "  </thead>\n",
              "  <tbody>\n",
              "    <tr>\n",
              "      <th>89916</th>\n",
              "      <td>101M</td>\n",
              "      <td>Myoglobin</td>\n",
              "      <td>P02185</td>\n",
              "      <td>Monomeric heme protein which primary function ...</td>\n",
              "      <td>NaN</td>\n",
              "      <td>[('M', '-'), ('V', '-'), ('L', '-'), ('S', '-'...</td>\n",
              "    </tr>\n",
              "    <tr>\n",
              "      <th>89917</th>\n",
              "      <td>102L</td>\n",
              "      <td>Endolysin</td>\n",
              "      <td>P00720</td>\n",
              "      <td>Endolysin with lysozyme activity that degrades...</td>\n",
              "      <td>NaN</td>\n",
              "      <td>[('M', '-'), ('N', '-'), ('I', 'H'), ('F', 'H'...</td>\n",
              "    </tr>\n",
              "    <tr>\n",
              "      <th>89918</th>\n",
              "      <td>102M</td>\n",
              "      <td>Myoglobin</td>\n",
              "      <td>P02185</td>\n",
              "      <td>Monomeric heme protein which primary function ...</td>\n",
              "      <td>NaN</td>\n",
              "      <td>[('M', '-'), ('V', '-'), ('L', '-'), ('S', '-'...</td>\n",
              "    </tr>\n",
              "    <tr>\n",
              "      <th>89919</th>\n",
              "      <td>103L</td>\n",
              "      <td>Endolysin</td>\n",
              "      <td>P00720</td>\n",
              "      <td>Endolysin with lysozyme activity that degrades...</td>\n",
              "      <td>NaN</td>\n",
              "      <td>[('M', '-'), ('N', '-'), ('I', 'H'), ('F', 'H'...</td>\n",
              "    </tr>\n",
              "    <tr>\n",
              "      <th>89920</th>\n",
              "      <td>103M</td>\n",
              "      <td>Myoglobin</td>\n",
              "      <td>P02185</td>\n",
              "      <td>Monomeric heme protein which primary function ...</td>\n",
              "      <td>NaN</td>\n",
              "      <td>[('M', '-'), ('V', '-'), ('L', '-'), ('S', '-'...</td>\n",
              "    </tr>\n",
              "  </tbody>\n",
              "</table>\n",
              "</div>\n",
              "    <div class=\"colab-df-buttons\">\n",
              "\n",
              "  <div class=\"colab-df-container\">\n",
              "    <button class=\"colab-df-convert\" onclick=\"convertToInteractive('df-e52f3b25-dfcc-44a3-82b1-5cad8009f15f')\"\n",
              "            title=\"Convert this dataframe to an interactive table.\"\n",
              "            style=\"display:none;\">\n",
              "\n",
              "  <svg xmlns=\"http://www.w3.org/2000/svg\" height=\"24px\" viewBox=\"0 -960 960 960\">\n",
              "    <path d=\"M120-120v-720h720v720H120Zm60-500h600v-160H180v160Zm220 220h160v-160H400v160Zm0 220h160v-160H400v160ZM180-400h160v-160H180v160Zm440 0h160v-160H620v160ZM180-180h160v-160H180v160Zm440 0h160v-160H620v160Z\"/>\n",
              "  </svg>\n",
              "    </button>\n",
              "\n",
              "  <style>\n",
              "    .colab-df-container {\n",
              "      display:flex;\n",
              "      gap: 12px;\n",
              "    }\n",
              "\n",
              "    .colab-df-convert {\n",
              "      background-color: #E8F0FE;\n",
              "      border: none;\n",
              "      border-radius: 50%;\n",
              "      cursor: pointer;\n",
              "      display: none;\n",
              "      fill: #1967D2;\n",
              "      height: 32px;\n",
              "      padding: 0 0 0 0;\n",
              "      width: 32px;\n",
              "    }\n",
              "\n",
              "    .colab-df-convert:hover {\n",
              "      background-color: #E2EBFA;\n",
              "      box-shadow: 0px 1px 2px rgba(60, 64, 67, 0.3), 0px 1px 3px 1px rgba(60, 64, 67, 0.15);\n",
              "      fill: #174EA6;\n",
              "    }\n",
              "\n",
              "    .colab-df-buttons div {\n",
              "      margin-bottom: 4px;\n",
              "    }\n",
              "\n",
              "    [theme=dark] .colab-df-convert {\n",
              "      background-color: #3B4455;\n",
              "      fill: #D2E3FC;\n",
              "    }\n",
              "\n",
              "    [theme=dark] .colab-df-convert:hover {\n",
              "      background-color: #434B5C;\n",
              "      box-shadow: 0px 1px 3px 1px rgba(0, 0, 0, 0.15);\n",
              "      filter: drop-shadow(0px 1px 2px rgba(0, 0, 0, 0.3));\n",
              "      fill: #FFFFFF;\n",
              "    }\n",
              "  </style>\n",
              "\n",
              "    <script>\n",
              "      const buttonEl =\n",
              "        document.querySelector('#df-e52f3b25-dfcc-44a3-82b1-5cad8009f15f button.colab-df-convert');\n",
              "      buttonEl.style.display =\n",
              "        google.colab.kernel.accessAllowed ? 'block' : 'none';\n",
              "\n",
              "      async function convertToInteractive(key) {\n",
              "        const element = document.querySelector('#df-e52f3b25-dfcc-44a3-82b1-5cad8009f15f');\n",
              "        const dataTable =\n",
              "          await google.colab.kernel.invokeFunction('convertToInteractive',\n",
              "                                                    [key], {});\n",
              "        if (!dataTable) return;\n",
              "\n",
              "        const docLinkHtml = 'Like what you see? Visit the ' +\n",
              "          '<a target=\"_blank\" href=https://colab.research.google.com/notebooks/data_table.ipynb>data table notebook</a>'\n",
              "          + ' to learn more about interactive tables.';\n",
              "        element.innerHTML = '';\n",
              "        dataTable['output_type'] = 'display_data';\n",
              "        await google.colab.output.renderOutput(dataTable, element);\n",
              "        const docLink = document.createElement('div');\n",
              "        docLink.innerHTML = docLinkHtml;\n",
              "        element.appendChild(docLink);\n",
              "      }\n",
              "    </script>\n",
              "  </div>\n",
              "\n",
              "\n",
              "<div id=\"df-3d3ec01a-df6e-4bbd-a349-ce21e8eab417\">\n",
              "  <button class=\"colab-df-quickchart\" onclick=\"quickchart('df-3d3ec01a-df6e-4bbd-a349-ce21e8eab417')\"\n",
              "            title=\"Suggest charts\"\n",
              "            style=\"display:none;\">\n",
              "\n",
              "<svg xmlns=\"http://www.w3.org/2000/svg\" height=\"24px\"viewBox=\"0 0 24 24\"\n",
              "     width=\"24px\">\n",
              "    <g>\n",
              "        <path d=\"M19 3H5c-1.1 0-2 .9-2 2v14c0 1.1.9 2 2 2h14c1.1 0 2-.9 2-2V5c0-1.1-.9-2-2-2zM9 17H7v-7h2v7zm4 0h-2V7h2v10zm4 0h-2v-4h2v4z\"/>\n",
              "    </g>\n",
              "</svg>\n",
              "  </button>\n",
              "\n",
              "<style>\n",
              "  .colab-df-quickchart {\n",
              "      --bg-color: #E8F0FE;\n",
              "      --fill-color: #1967D2;\n",
              "      --hover-bg-color: #E2EBFA;\n",
              "      --hover-fill-color: #174EA6;\n",
              "      --disabled-fill-color: #AAA;\n",
              "      --disabled-bg-color: #DDD;\n",
              "  }\n",
              "\n",
              "  [theme=dark] .colab-df-quickchart {\n",
              "      --bg-color: #3B4455;\n",
              "      --fill-color: #D2E3FC;\n",
              "      --hover-bg-color: #434B5C;\n",
              "      --hover-fill-color: #FFFFFF;\n",
              "      --disabled-bg-color: #3B4455;\n",
              "      --disabled-fill-color: #666;\n",
              "  }\n",
              "\n",
              "  .colab-df-quickchart {\n",
              "    background-color: var(--bg-color);\n",
              "    border: none;\n",
              "    border-radius: 50%;\n",
              "    cursor: pointer;\n",
              "    display: none;\n",
              "    fill: var(--fill-color);\n",
              "    height: 32px;\n",
              "    padding: 0;\n",
              "    width: 32px;\n",
              "  }\n",
              "\n",
              "  .colab-df-quickchart:hover {\n",
              "    background-color: var(--hover-bg-color);\n",
              "    box-shadow: 0 1px 2px rgba(60, 64, 67, 0.3), 0 1px 3px 1px rgba(60, 64, 67, 0.15);\n",
              "    fill: var(--button-hover-fill-color);\n",
              "  }\n",
              "\n",
              "  .colab-df-quickchart-complete:disabled,\n",
              "  .colab-df-quickchart-complete:disabled:hover {\n",
              "    background-color: var(--disabled-bg-color);\n",
              "    fill: var(--disabled-fill-color);\n",
              "    box-shadow: none;\n",
              "  }\n",
              "\n",
              "  .colab-df-spinner {\n",
              "    border: 2px solid var(--fill-color);\n",
              "    border-color: transparent;\n",
              "    border-bottom-color: var(--fill-color);\n",
              "    animation:\n",
              "      spin 1s steps(1) infinite;\n",
              "  }\n",
              "\n",
              "  @keyframes spin {\n",
              "    0% {\n",
              "      border-color: transparent;\n",
              "      border-bottom-color: var(--fill-color);\n",
              "      border-left-color: var(--fill-color);\n",
              "    }\n",
              "    20% {\n",
              "      border-color: transparent;\n",
              "      border-left-color: var(--fill-color);\n",
              "      border-top-color: var(--fill-color);\n",
              "    }\n",
              "    30% {\n",
              "      border-color: transparent;\n",
              "      border-left-color: var(--fill-color);\n",
              "      border-top-color: var(--fill-color);\n",
              "      border-right-color: var(--fill-color);\n",
              "    }\n",
              "    40% {\n",
              "      border-color: transparent;\n",
              "      border-right-color: var(--fill-color);\n",
              "      border-top-color: var(--fill-color);\n",
              "    }\n",
              "    60% {\n",
              "      border-color: transparent;\n",
              "      border-right-color: var(--fill-color);\n",
              "    }\n",
              "    80% {\n",
              "      border-color: transparent;\n",
              "      border-right-color: var(--fill-color);\n",
              "      border-bottom-color: var(--fill-color);\n",
              "    }\n",
              "    90% {\n",
              "      border-color: transparent;\n",
              "      border-bottom-color: var(--fill-color);\n",
              "    }\n",
              "  }\n",
              "</style>\n",
              "\n",
              "  <script>\n",
              "    async function quickchart(key) {\n",
              "      const quickchartButtonEl =\n",
              "        document.querySelector('#' + key + ' button');\n",
              "      quickchartButtonEl.disabled = true;  // To prevent multiple clicks.\n",
              "      quickchartButtonEl.classList.add('colab-df-spinner');\n",
              "      try {\n",
              "        const charts = await google.colab.kernel.invokeFunction(\n",
              "            'suggestCharts', [key], {});\n",
              "      } catch (error) {\n",
              "        console.error('Error during call to suggestCharts:', error);\n",
              "      }\n",
              "      quickchartButtonEl.classList.remove('colab-df-spinner');\n",
              "      quickchartButtonEl.classList.add('colab-df-quickchart-complete');\n",
              "    }\n",
              "    (() => {\n",
              "      let quickchartButtonEl =\n",
              "        document.querySelector('#df-3d3ec01a-df6e-4bbd-a349-ce21e8eab417 button');\n",
              "      quickchartButtonEl.style.display =\n",
              "        google.colab.kernel.accessAllowed ? 'block' : 'none';\n",
              "    })();\n",
              "  </script>\n",
              "</div>\n",
              "\n",
              "    </div>\n",
              "  </div>\n"
            ],
            "application/vnd.google.colaboratory.intrinsic+json": {
              "type": "dataframe",
              "variable_name": "df"
            }
          },
          "metadata": {},
          "execution_count": 9
        }
      ]
    },
    {
      "cell_type": "code",
      "source": [
        "df = df.drop_duplicates(subset=[\"UniProt ID\", \"Secondary Structures Q8\"])"
      ],
      "metadata": {
        "id": "pc2ocgr0_TJJ"
      },
      "execution_count": 10,
      "outputs": []
    },
    {
      "cell_type": "code",
      "source": [
        "print(len(df))"
      ],
      "metadata": {
        "colab": {
          "base_uri": "https://localhost:8080/"
        },
        "id": "rhmytS5u_Z6J",
        "outputId": "b8bf23c5-49b4-4b07-e406-002c410af003"
      },
      "execution_count": 11,
      "outputs": [
        {
          "output_type": "stream",
          "name": "stdout",
          "text": [
            "115495\n"
          ]
        }
      ]
    },
    {
      "cell_type": "code",
      "source": [
        "!pip install nltk"
      ],
      "metadata": {
        "colab": {
          "base_uri": "https://localhost:8080/"
        },
        "id": "K_SDI6CIEEof",
        "outputId": "691585e8-9a41-432c-d20f-ce44c56f60f9"
      },
      "execution_count": 12,
      "outputs": [
        {
          "output_type": "stream",
          "name": "stdout",
          "text": [
            "Requirement already satisfied: nltk in /usr/local/lib/python3.10/dist-packages (3.8.1)\n",
            "Requirement already satisfied: click in /usr/local/lib/python3.10/dist-packages (from nltk) (8.1.7)\n",
            "Requirement already satisfied: joblib in /usr/local/lib/python3.10/dist-packages (from nltk) (1.4.2)\n",
            "Requirement already satisfied: regex>=2021.8.3 in /usr/local/lib/python3.10/dist-packages (from nltk) (2024.5.15)\n",
            "Requirement already satisfied: tqdm in /usr/local/lib/python3.10/dist-packages (from nltk) (4.66.4)\n"
          ]
        }
      ]
    },
    {
      "cell_type": "code",
      "source": [
        "import nltk\n",
        "nltk.download('punkt')\n",
        "nltk.download('stopwords')\n",
        "nltk.download('wordnet')\n",
        "\n",
        "from nltk.tokenize import word_tokenize\n",
        "from nltk.corpus import stopwords\n",
        "from nltk.stem import WordNetLemmatizer\n",
        "import string"
      ],
      "metadata": {
        "colab": {
          "base_uri": "https://localhost:8080/"
        },
        "id": "OYe98X1OEAC4",
        "outputId": "ead7e043-ece2-44ed-b3d8-5be8753e2ef3"
      },
      "execution_count": 13,
      "outputs": [
        {
          "output_type": "stream",
          "name": "stderr",
          "text": [
            "[nltk_data] Downloading package punkt to /root/nltk_data...\n",
            "[nltk_data]   Unzipping tokenizers/punkt.zip.\n",
            "[nltk_data] Downloading package stopwords to /root/nltk_data...\n",
            "[nltk_data]   Unzipping corpora/stopwords.zip.\n",
            "[nltk_data] Downloading package wordnet to /root/nltk_data...\n"
          ]
        }
      ]
    },
    {
      "cell_type": "code",
      "source": [
        "lemmatizer = WordNetLemmatizer()\n",
        "stop_words = set(stopwords.words('english'))"
      ],
      "metadata": {
        "id": "K9FhnNDUEPDr"
      },
      "execution_count": 14,
      "outputs": []
    },
    {
      "cell_type": "code",
      "source": [
        "def preprocess_text(text):\n",
        "    tokens = word_tokenize(text)\n",
        "    tokens = [token.lower() for token in tokens]\n",
        "    tokens = [token for token in tokens if token.isalpha()]\n",
        "    tokens = [token for token in tokens if token not in stop_words]\n",
        "    tokens = [lemmatizer.lemmatize(token) for token in tokens]\n",
        "    return ' '.join(tokens)"
      ],
      "metadata": {
        "id": "9aZK71t7EREQ"
      },
      "execution_count": 15,
      "outputs": []
    },
    {
      "cell_type": "code",
      "source": [
        "def preprocess_column(df, column_name):\n",
        "    df[column_name] = df[column_name].apply(lambda x: preprocess_text(x) if pd.notna(x) else x)\n",
        "    return df"
      ],
      "metadata": {
        "id": "L1ukuIOfFQI1"
      },
      "execution_count": 16,
      "outputs": []
    },
    {
      "cell_type": "code",
      "source": [
        "df = preprocess_column(df, \"Functionality\")\n",
        "df = preprocess_column(df, \"Publications\")"
      ],
      "metadata": {
        "colab": {
          "base_uri": "https://localhost:8080/"
        },
        "id": "T4iZAQwjEcmY",
        "outputId": "24802116-00ee-4da2-f33d-ecde33d8ee81"
      },
      "execution_count": 17,
      "outputs": [
        {
          "output_type": "stream",
          "name": "stderr",
          "text": [
            "<ipython-input-16-343d15b3f94c>:2: SettingWithCopyWarning: \n",
            "A value is trying to be set on a copy of a slice from a DataFrame.\n",
            "Try using .loc[row_indexer,col_indexer] = value instead\n",
            "\n",
            "See the caveats in the documentation: https://pandas.pydata.org/pandas-docs/stable/user_guide/indexing.html#returning-a-view-versus-a-copy\n",
            "  df[column_name] = df[column_name].apply(lambda x: preprocess_text(x) if pd.notna(x) else x)\n"
          ]
        }
      ]
    },
    {
      "cell_type": "code",
      "source": [
        "print(df[['Functionality', 'Publications']][90000:91000])"
      ],
      "metadata": {
        "colab": {
          "base_uri": "https://localhost:8080/"
        },
        "id": "wGye1LnAFZvV",
        "outputId": "a7e8ed92-1fc8-4349-8fb2-c1afc4c7c734"
      },
      "execution_count": 19,
      "outputs": [
        {
          "output_type": "stream",
          "name": "stdout",
          "text": [
            "                                            Functionality Publications\n",
            "72342   attache virion cell membrane interacting host ...          NaN\n",
            "72343   attache virion cell membrane interacting host ...          NaN\n",
            "18593   phosphorylates protein serine threonine tyrosi...          NaN\n",
            "18594   rna polymerase rnap catalyzes transcription dn...          NaN\n",
            "124094  potent cytokine initially discovered major end...          NaN\n",
            "...                                                   ...          ...\n",
            "116769  protein mediates sodium ion permeability excit...          NaN\n",
            "52192   modulates channel gating kinetics cause negati...          NaN\n",
            "13303   lamins intermediate filament protein assemble ...          NaN\n",
            "52195   rna polymerase catalyzes transcription dna rna...          NaN\n",
            "52196   rna polymerase catalyzes transcription dna rna...          NaN\n",
            "\n",
            "[1000 rows x 2 columns]\n"
          ]
        }
      ]
    },
    {
      "cell_type": "code",
      "source": [
        "df['Functionality'] = df.apply(\n",
        "    lambda row: f\"{row['Functionality']} {row['Publications']}\" if pd.notna(row['Publications']) else row['Functionality'],\n",
        "    axis=1\n",
        ")\n",
        "\n",
        "df.drop(columns=['Publications'], inplace=True)"
      ],
      "metadata": {
        "colab": {
          "base_uri": "https://localhost:8080/"
        },
        "id": "Ab96o2UHPRvq",
        "outputId": "43c2876f-d463-44c6-a706-aaae831a769c"
      },
      "execution_count": 27,
      "outputs": [
        {
          "output_type": "stream",
          "name": "stderr",
          "text": [
            "<ipython-input-27-3521413d37d0>:1: SettingWithCopyWarning: \n",
            "A value is trying to be set on a copy of a slice from a DataFrame.\n",
            "Try using .loc[row_indexer,col_indexer] = value instead\n",
            "\n",
            "See the caveats in the documentation: https://pandas.pydata.org/pandas-docs/stable/user_guide/indexing.html#returning-a-view-versus-a-copy\n",
            "  df['Functionality'] = df.apply(\n",
            "<ipython-input-27-3521413d37d0>:6: SettingWithCopyWarning: \n",
            "A value is trying to be set on a copy of a slice from a DataFrame\n",
            "\n",
            "See the caveats in the documentation: https://pandas.pydata.org/pandas-docs/stable/user_guide/indexing.html#returning-a-view-versus-a-copy\n",
            "  df.drop(columns=['Publications'], inplace=True)\n"
          ]
        }
      ]
    },
    {
      "cell_type": "code",
      "source": [
        "#!pip install ydata-profiling"
      ],
      "metadata": {
        "id": "MD93OI_S-Sml"
      },
      "execution_count": 20,
      "outputs": []
    },
    {
      "cell_type": "code",
      "source": [
        "# import ydata_profiling\n",
        "\n",
        "# profile = ydata_profiling.ProfileReport(df)\n",
        "\n",
        "# profile"
      ],
      "metadata": {
        "id": "RxrEWmSZ-RdA"
      },
      "execution_count": 21,
      "outputs": []
    },
    {
      "cell_type": "code",
      "source": [
        "df.head(10)"
      ],
      "metadata": {
        "colab": {
          "base_uri": "https://localhost:8080/",
          "height": 3658
        },
        "id": "BbfagDUiP8-h",
        "outputId": "a2a92176-8712-46fb-e664-dddf8583e62d"
      },
      "execution_count": 29,
      "outputs": [
        {
          "output_type": "execute_result",
          "data": {
            "text/plain": [
              "      PDB ID Protein Name UniProt ID  \\\n",
              "89916   101M    Myoglobin     P02185   \n",
              "89917   102L    Endolysin     P00720   \n",
              "89918   102M    Myoglobin     P02185   \n",
              "89919   103L    Endolysin     P00720   \n",
              "89920   103M    Myoglobin     P02185   \n",
              "89921   104L    Endolysin     P00720   \n",
              "89922   104M    Myoglobin     P02185   \n",
              "89923   105M    Myoglobin     P02185   \n",
              "89924   106M    Myoglobin     P02185   \n",
              "89925   107L    Endolysin     P00720   \n",
              "\n",
              "                                           Functionality  \\\n",
              "89916  monomeric heme protein primary function store ...   \n",
              "89917  endolysin lysozyme activity degrades host pept...   \n",
              "89918  monomeric heme protein primary function store ...   \n",
              "89919  endolysin lysozyme activity degrades host pept...   \n",
              "89920  monomeric heme protein primary function store ...   \n",
              "89921  endolysin lysozyme activity degrades host pept...   \n",
              "89922  monomeric heme protein primary function store ...   \n",
              "89923  monomeric heme protein primary function store ...   \n",
              "89924  monomeric heme protein primary function store ...   \n",
              "89925  endolysin lysozyme activity degrades host pept...   \n",
              "\n",
              "                                 Secondary Structures Q8  \n",
              "89916  [('M', '-'), ('V', '-'), ('L', '-'), ('S', '-'...  \n",
              "89917  [('M', '-'), ('N', '-'), ('I', 'H'), ('F', 'H'...  \n",
              "89918  [('M', '-'), ('V', '-'), ('L', '-'), ('S', '-'...  \n",
              "89919  [('M', '-'), ('N', '-'), ('I', 'H'), ('F', 'H'...  \n",
              "89920  [('M', '-'), ('V', '-'), ('L', '-'), ('S', '-'...  \n",
              "89921  [('M', '-'), ('N', '-'), ('I', 'H'), ('F', 'H'...  \n",
              "89922  [('V', '-'), ('L', '-'), ('S', '-'), ('E', 'H'...  \n",
              "89923  [('V', '-'), ('L', '-'), ('S', '-'), ('E', 'H'...  \n",
              "89924  [('M', '-'), ('V', '-'), ('L', '-'), ('S', '-'...  \n",
              "89925  [('M', '-'), ('N', '-'), ('I', 'H'), ('F', 'H'...  "
            ],
            "text/html": [
              "\n",
              "  <div id=\"df-1fff7812-f7c3-49f9-b45b-644a5de1214a\" class=\"colab-df-container\">\n",
              "    <div>\n",
              "<style scoped>\n",
              "    .dataframe tbody tr th:only-of-type {\n",
              "        vertical-align: middle;\n",
              "    }\n",
              "\n",
              "    .dataframe tbody tr th {\n",
              "        vertical-align: top;\n",
              "    }\n",
              "\n",
              "    .dataframe thead th {\n",
              "        text-align: right;\n",
              "    }\n",
              "</style>\n",
              "<table border=\"1\" class=\"dataframe\">\n",
              "  <thead>\n",
              "    <tr style=\"text-align: right;\">\n",
              "      <th></th>\n",
              "      <th>PDB ID</th>\n",
              "      <th>Protein Name</th>\n",
              "      <th>UniProt ID</th>\n",
              "      <th>Functionality</th>\n",
              "      <th>Secondary Structures Q8</th>\n",
              "    </tr>\n",
              "  </thead>\n",
              "  <tbody>\n",
              "    <tr>\n",
              "      <th>89916</th>\n",
              "      <td>101M</td>\n",
              "      <td>Myoglobin</td>\n",
              "      <td>P02185</td>\n",
              "      <td>monomeric heme protein primary function store ...</td>\n",
              "      <td>[('M', '-'), ('V', '-'), ('L', '-'), ('S', '-'...</td>\n",
              "    </tr>\n",
              "    <tr>\n",
              "      <th>89917</th>\n",
              "      <td>102L</td>\n",
              "      <td>Endolysin</td>\n",
              "      <td>P00720</td>\n",
              "      <td>endolysin lysozyme activity degrades host pept...</td>\n",
              "      <td>[('M', '-'), ('N', '-'), ('I', 'H'), ('F', 'H'...</td>\n",
              "    </tr>\n",
              "    <tr>\n",
              "      <th>89918</th>\n",
              "      <td>102M</td>\n",
              "      <td>Myoglobin</td>\n",
              "      <td>P02185</td>\n",
              "      <td>monomeric heme protein primary function store ...</td>\n",
              "      <td>[('M', '-'), ('V', '-'), ('L', '-'), ('S', '-'...</td>\n",
              "    </tr>\n",
              "    <tr>\n",
              "      <th>89919</th>\n",
              "      <td>103L</td>\n",
              "      <td>Endolysin</td>\n",
              "      <td>P00720</td>\n",
              "      <td>endolysin lysozyme activity degrades host pept...</td>\n",
              "      <td>[('M', '-'), ('N', '-'), ('I', 'H'), ('F', 'H'...</td>\n",
              "    </tr>\n",
              "    <tr>\n",
              "      <th>89920</th>\n",
              "      <td>103M</td>\n",
              "      <td>Myoglobin</td>\n",
              "      <td>P02185</td>\n",
              "      <td>monomeric heme protein primary function store ...</td>\n",
              "      <td>[('M', '-'), ('V', '-'), ('L', '-'), ('S', '-'...</td>\n",
              "    </tr>\n",
              "    <tr>\n",
              "      <th>89921</th>\n",
              "      <td>104L</td>\n",
              "      <td>Endolysin</td>\n",
              "      <td>P00720</td>\n",
              "      <td>endolysin lysozyme activity degrades host pept...</td>\n",
              "      <td>[('M', '-'), ('N', '-'), ('I', 'H'), ('F', 'H'...</td>\n",
              "    </tr>\n",
              "    <tr>\n",
              "      <th>89922</th>\n",
              "      <td>104M</td>\n",
              "      <td>Myoglobin</td>\n",
              "      <td>P02185</td>\n",
              "      <td>monomeric heme protein primary function store ...</td>\n",
              "      <td>[('V', '-'), ('L', '-'), ('S', '-'), ('E', 'H'...</td>\n",
              "    </tr>\n",
              "    <tr>\n",
              "      <th>89923</th>\n",
              "      <td>105M</td>\n",
              "      <td>Myoglobin</td>\n",
              "      <td>P02185</td>\n",
              "      <td>monomeric heme protein primary function store ...</td>\n",
              "      <td>[('V', '-'), ('L', '-'), ('S', '-'), ('E', 'H'...</td>\n",
              "    </tr>\n",
              "    <tr>\n",
              "      <th>89924</th>\n",
              "      <td>106M</td>\n",
              "      <td>Myoglobin</td>\n",
              "      <td>P02185</td>\n",
              "      <td>monomeric heme protein primary function store ...</td>\n",
              "      <td>[('M', '-'), ('V', '-'), ('L', '-'), ('S', '-'...</td>\n",
              "    </tr>\n",
              "    <tr>\n",
              "      <th>89925</th>\n",
              "      <td>107L</td>\n",
              "      <td>Endolysin</td>\n",
              "      <td>P00720</td>\n",
              "      <td>endolysin lysozyme activity degrades host pept...</td>\n",
              "      <td>[('M', '-'), ('N', '-'), ('I', 'H'), ('F', 'H'...</td>\n",
              "    </tr>\n",
              "  </tbody>\n",
              "</table>\n",
              "</div>\n",
              "    <div class=\"colab-df-buttons\">\n",
              "\n",
              "  <div class=\"colab-df-container\">\n",
              "    <button class=\"colab-df-convert\" onclick=\"convertToInteractive('df-1fff7812-f7c3-49f9-b45b-644a5de1214a')\"\n",
              "            title=\"Convert this dataframe to an interactive table.\"\n",
              "            style=\"display:none;\">\n",
              "\n",
              "  <svg xmlns=\"http://www.w3.org/2000/svg\" height=\"24px\" viewBox=\"0 -960 960 960\">\n",
              "    <path d=\"M120-120v-720h720v720H120Zm60-500h600v-160H180v160Zm220 220h160v-160H400v160Zm0 220h160v-160H400v160ZM180-400h160v-160H180v160Zm440 0h160v-160H620v160ZM180-180h160v-160H180v160Zm440 0h160v-160H620v160Z\"/>\n",
              "  </svg>\n",
              "    </button>\n",
              "\n",
              "  <style>\n",
              "    .colab-df-container {\n",
              "      display:flex;\n",
              "      gap: 12px;\n",
              "    }\n",
              "\n",
              "    .colab-df-convert {\n",
              "      background-color: #E8F0FE;\n",
              "      border: none;\n",
              "      border-radius: 50%;\n",
              "      cursor: pointer;\n",
              "      display: none;\n",
              "      fill: #1967D2;\n",
              "      height: 32px;\n",
              "      padding: 0 0 0 0;\n",
              "      width: 32px;\n",
              "    }\n",
              "\n",
              "    .colab-df-convert:hover {\n",
              "      background-color: #E2EBFA;\n",
              "      box-shadow: 0px 1px 2px rgba(60, 64, 67, 0.3), 0px 1px 3px 1px rgba(60, 64, 67, 0.15);\n",
              "      fill: #174EA6;\n",
              "    }\n",
              "\n",
              "    .colab-df-buttons div {\n",
              "      margin-bottom: 4px;\n",
              "    }\n",
              "\n",
              "    [theme=dark] .colab-df-convert {\n",
              "      background-color: #3B4455;\n",
              "      fill: #D2E3FC;\n",
              "    }\n",
              "\n",
              "    [theme=dark] .colab-df-convert:hover {\n",
              "      background-color: #434B5C;\n",
              "      box-shadow: 0px 1px 3px 1px rgba(0, 0, 0, 0.15);\n",
              "      filter: drop-shadow(0px 1px 2px rgba(0, 0, 0, 0.3));\n",
              "      fill: #FFFFFF;\n",
              "    }\n",
              "  </style>\n",
              "\n",
              "    <script>\n",
              "      const buttonEl =\n",
              "        document.querySelector('#df-1fff7812-f7c3-49f9-b45b-644a5de1214a button.colab-df-convert');\n",
              "      buttonEl.style.display =\n",
              "        google.colab.kernel.accessAllowed ? 'block' : 'none';\n",
              "\n",
              "      async function convertToInteractive(key) {\n",
              "        const element = document.querySelector('#df-1fff7812-f7c3-49f9-b45b-644a5de1214a');\n",
              "        const dataTable =\n",
              "          await google.colab.kernel.invokeFunction('convertToInteractive',\n",
              "                                                    [key], {});\n",
              "        if (!dataTable) return;\n",
              "\n",
              "        const docLinkHtml = 'Like what you see? Visit the ' +\n",
              "          '<a target=\"_blank\" href=https://colab.research.google.com/notebooks/data_table.ipynb>data table notebook</a>'\n",
              "          + ' to learn more about interactive tables.';\n",
              "        element.innerHTML = '';\n",
              "        dataTable['output_type'] = 'display_data';\n",
              "        await google.colab.output.renderOutput(dataTable, element);\n",
              "        const docLink = document.createElement('div');\n",
              "        docLink.innerHTML = docLinkHtml;\n",
              "        element.appendChild(docLink);\n",
              "      }\n",
              "    </script>\n",
              "  </div>\n",
              "\n",
              "\n",
              "<div id=\"df-92ac6081-4539-4255-af61-f42c88c5c743\">\n",
              "  <button class=\"colab-df-quickchart\" onclick=\"quickchart('df-92ac6081-4539-4255-af61-f42c88c5c743')\"\n",
              "            title=\"Suggest charts\"\n",
              "            style=\"display:none;\">\n",
              "\n",
              "<svg xmlns=\"http://www.w3.org/2000/svg\" height=\"24px\"viewBox=\"0 0 24 24\"\n",
              "     width=\"24px\">\n",
              "    <g>\n",
              "        <path d=\"M19 3H5c-1.1 0-2 .9-2 2v14c0 1.1.9 2 2 2h14c1.1 0 2-.9 2-2V5c0-1.1-.9-2-2-2zM9 17H7v-7h2v7zm4 0h-2V7h2v10zm4 0h-2v-4h2v4z\"/>\n",
              "    </g>\n",
              "</svg>\n",
              "  </button>\n",
              "\n",
              "<style>\n",
              "  .colab-df-quickchart {\n",
              "      --bg-color: #E8F0FE;\n",
              "      --fill-color: #1967D2;\n",
              "      --hover-bg-color: #E2EBFA;\n",
              "      --hover-fill-color: #174EA6;\n",
              "      --disabled-fill-color: #AAA;\n",
              "      --disabled-bg-color: #DDD;\n",
              "  }\n",
              "\n",
              "  [theme=dark] .colab-df-quickchart {\n",
              "      --bg-color: #3B4455;\n",
              "      --fill-color: #D2E3FC;\n",
              "      --hover-bg-color: #434B5C;\n",
              "      --hover-fill-color: #FFFFFF;\n",
              "      --disabled-bg-color: #3B4455;\n",
              "      --disabled-fill-color: #666;\n",
              "  }\n",
              "\n",
              "  .colab-df-quickchart {\n",
              "    background-color: var(--bg-color);\n",
              "    border: none;\n",
              "    border-radius: 50%;\n",
              "    cursor: pointer;\n",
              "    display: none;\n",
              "    fill: var(--fill-color);\n",
              "    height: 32px;\n",
              "    padding: 0;\n",
              "    width: 32px;\n",
              "  }\n",
              "\n",
              "  .colab-df-quickchart:hover {\n",
              "    background-color: var(--hover-bg-color);\n",
              "    box-shadow: 0 1px 2px rgba(60, 64, 67, 0.3), 0 1px 3px 1px rgba(60, 64, 67, 0.15);\n",
              "    fill: var(--button-hover-fill-color);\n",
              "  }\n",
              "\n",
              "  .colab-df-quickchart-complete:disabled,\n",
              "  .colab-df-quickchart-complete:disabled:hover {\n",
              "    background-color: var(--disabled-bg-color);\n",
              "    fill: var(--disabled-fill-color);\n",
              "    box-shadow: none;\n",
              "  }\n",
              "\n",
              "  .colab-df-spinner {\n",
              "    border: 2px solid var(--fill-color);\n",
              "    border-color: transparent;\n",
              "    border-bottom-color: var(--fill-color);\n",
              "    animation:\n",
              "      spin 1s steps(1) infinite;\n",
              "  }\n",
              "\n",
              "  @keyframes spin {\n",
              "    0% {\n",
              "      border-color: transparent;\n",
              "      border-bottom-color: var(--fill-color);\n",
              "      border-left-color: var(--fill-color);\n",
              "    }\n",
              "    20% {\n",
              "      border-color: transparent;\n",
              "      border-left-color: var(--fill-color);\n",
              "      border-top-color: var(--fill-color);\n",
              "    }\n",
              "    30% {\n",
              "      border-color: transparent;\n",
              "      border-left-color: var(--fill-color);\n",
              "      border-top-color: var(--fill-color);\n",
              "      border-right-color: var(--fill-color);\n",
              "    }\n",
              "    40% {\n",
              "      border-color: transparent;\n",
              "      border-right-color: var(--fill-color);\n",
              "      border-top-color: var(--fill-color);\n",
              "    }\n",
              "    60% {\n",
              "      border-color: transparent;\n",
              "      border-right-color: var(--fill-color);\n",
              "    }\n",
              "    80% {\n",
              "      border-color: transparent;\n",
              "      border-right-color: var(--fill-color);\n",
              "      border-bottom-color: var(--fill-color);\n",
              "    }\n",
              "    90% {\n",
              "      border-color: transparent;\n",
              "      border-bottom-color: var(--fill-color);\n",
              "    }\n",
              "  }\n",
              "</style>\n",
              "\n",
              "  <script>\n",
              "    async function quickchart(key) {\n",
              "      const quickchartButtonEl =\n",
              "        document.querySelector('#' + key + ' button');\n",
              "      quickchartButtonEl.disabled = true;  // To prevent multiple clicks.\n",
              "      quickchartButtonEl.classList.add('colab-df-spinner');\n",
              "      try {\n",
              "        const charts = await google.colab.kernel.invokeFunction(\n",
              "            'suggestCharts', [key], {});\n",
              "      } catch (error) {\n",
              "        console.error('Error during call to suggestCharts:', error);\n",
              "      }\n",
              "      quickchartButtonEl.classList.remove('colab-df-spinner');\n",
              "      quickchartButtonEl.classList.add('colab-df-quickchart-complete');\n",
              "    }\n",
              "    (() => {\n",
              "      let quickchartButtonEl =\n",
              "        document.querySelector('#df-92ac6081-4539-4255-af61-f42c88c5c743 button');\n",
              "      quickchartButtonEl.style.display =\n",
              "        google.colab.kernel.accessAllowed ? 'block' : 'none';\n",
              "    })();\n",
              "  </script>\n",
              "</div>\n",
              "\n",
              "    </div>\n",
              "  </div>\n"
            ],
            "application/vnd.google.colaboratory.intrinsic+json": {
              "type": "dataframe",
              "variable_name": "df"
            }
          },
          "metadata": {},
          "execution_count": 29
        }
      ]
    },
    {
      "cell_type": "code",
      "source": [
        "df.to_csv('dataset.csv', index=False)"
      ],
      "metadata": {
        "id": "URe0bjbw9DLB"
      },
      "execution_count": 28,
      "outputs": []
    },
    {
      "cell_type": "code",
      "source": [
        "!apt-get install rar"
      ],
      "metadata": {
        "colab": {
          "base_uri": "https://localhost:8080/"
        },
        "id": "WGZDya3RLJHZ",
        "outputId": "70e3a368-cab5-40bd-af6b-9ee3b36c7c2e"
      },
      "execution_count": 24,
      "outputs": [
        {
          "output_type": "stream",
          "name": "stdout",
          "text": [
            "Reading package lists... Done\n",
            "Building dependency tree... Done\n",
            "Reading state information... Done\n",
            "The following NEW packages will be installed:\n",
            "  rar\n",
            "0 upgraded, 1 newly installed, 0 to remove and 45 not upgraded.\n",
            "Need to get 341 kB of archives.\n",
            "After this operation, 1,202 kB of additional disk space will be used.\n",
            "Get:1 http://archive.ubuntu.com/ubuntu jammy/multiverse amd64 rar amd64 2:5.5.0-1.1 [341 kB]\n",
            "Fetched 341 kB in 1s (357 kB/s)\n",
            "Selecting previously unselected package rar.\n",
            "(Reading database ... 123589 files and directories currently installed.)\n",
            "Preparing to unpack .../rar_2%3a5.5.0-1.1_amd64.deb ...\n",
            "Unpacking rar (2:5.5.0-1.1) ...\n",
            "Setting up rar (2:5.5.0-1.1) ...\n",
            "Processing triggers for man-db (2.10.2-1) ...\n"
          ]
        }
      ]
    },
    {
      "cell_type": "code",
      "source": [
        "!rar a dataset.rar /content/dataset.csv"
      ],
      "metadata": {
        "colab": {
          "base_uri": "https://localhost:8080/"
        },
        "id": "NK-c3MQHIZJ4",
        "outputId": "21f69e41-b60c-4b96-dc7e-db05ff9d4f91"
      },
      "execution_count": 30,
      "outputs": [
        {
          "output_type": "stream",
          "name": "stdout",
          "text": [
            "\n",
            "RAR 5.50   Copyright (c) 1993-2017 Alexander Roshal   11 Aug 2017\n",
            "Trial version             Type 'rar -?' for help\n",
            "\n",
            "Evaluation copy. Please register.\n",
            "\n",
            "Creating archive dataset.rar\n",
            "\n",
            "Adding    /content/dataset.csv                                           \b\b\b\b  0%\b\b\b\b  1%\b\b\b\b  2%\b\b\b\b  3%\b\b\b\b  4%\b\b\b\b  5%\b\b\b\b  6%\b\b\b\b  7%\b\b\b\b  8%\b\b\b\b  9%\b\b\b\b 10%\b\b\b\b 11%\b\b\b\b 12%\b\b\b\b 13%\b\b\b\b 14%\b\b\b\b 15%\b\b\b\b 16%\b\b\b\b 17%\b\b\b\b 18%\b\b\b\b 19%\b\b\b\b 20%\b\b\b\b 21%\b\b\b\b 22%\b\b\b\b 23%\b\b\b\b 24%\b\b\b\b 25%\b\b\b\b 26%\b\b\b\b 27%\b\b\b\b 28%\b\b\b\b 29%\b\b\b\b 30%\b\b\b\b 31%\b\b\b\b 32%\b\b\b\b 33%\b\b\b\b 34%\b\b\b\b 35%\b\b\b\b 36%\b\b\b\b 37%\b\b\b\b 38%\b\b\b\b 39%\b\b\b\b 40%\b\b\b\b 41%\b\b\b\b 42%\b\b\b\b 43%\b\b\b\b 44%\b\b\b\b 45%\b\b\b\b 46%\b\b\b\b 47%\b\b\b\b 48%\b\b\b\b 49%\b\b\b\b 50%\b\b\b\b 51%\b\b\b\b 52%\b\b\b\b 53%\b\b\b\b 54%\b\b\b\b 55%\b\b\b\b 56%\b\b\b\b 57%\b\b\b\b 58%\b\b\b\b 59%\b\b\b\b 60%\b\b\b\b 61%\b\b\b\b 62%\b\b\b\b 63%\b\b\b\b 64%\b\b\b\b 65%\b\b\b\b 66%\b\b\b\b 67%\b\b\b\b 68%\b\b\b\b 69%\b\b\b\b 70%\b\b\b\b 71%\b\b\b\b 72%\b\b\b\b 73%\b\b\b\b 74%\b\b\b\b 75%\b\b\b\b 76%\b\b\b\b 77%\b\b\b\b 78%\b\b\b\b 79%\b\b\b\b 80%\b\b\b\b 81%\b\b\b\b 82%\b\b\b\b 83%\b\b\b\b 84%\b\b\b\b 85%\b\b\b\b 86%\b\b\b\b 87%\b\b\b\b 88%\b\b\b\b 89%\b\b\b\b 90%\b\b\b\b 91%\b\b\b\b 92%\b\b\b\b 93%\b\b\b\b 94%\b\b\b\b 95%\b\b\b\b 96%\b\b\b\b 97%\b\b\b\b 98%\b\b\b\b 99%\b\b\b\b100%\b\b\b\b\b  OK \n",
            "Done\n"
          ]
        }
      ]
    }
  ]
}