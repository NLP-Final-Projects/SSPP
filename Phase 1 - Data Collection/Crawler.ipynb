{
  "nbformat": 4,
  "nbformat_minor": 0,
  "metadata": {
    "colab": {
      "provenance": []
    },
    "kernelspec": {
      "name": "python3",
      "display_name": "Python 3"
    },
    "language_info": {
      "name": "python"
    }
  },
  "cells": [
    {
      "cell_type": "code",
      "source": [
        "import os\n",
        "from google.colab import drive\n",
        "drive.mount('/content/drive')"
      ],
      "metadata": {
        "colab": {
          "base_uri": "https://localhost:8080/"
        },
        "id": "Cq478PSu8CDM",
        "outputId": "fb27ce6a-58be-460f-bb57-93e92c49af55"
      },
      "execution_count": 43,
      "outputs": [
        {
          "output_type": "stream",
          "name": "stdout",
          "text": [
            "Drive already mounted at /content/drive; to attempt to forcibly remount, call drive.mount(\"/content/drive\", force_remount=True).\n"
          ]
        }
      ]
    },
    {
      "cell_type": "code",
      "execution_count": 44,
      "metadata": {
        "colab": {
          "base_uri": "https://localhost:8080/"
        },
        "id": "Zck-ModDXqCN",
        "outputId": "229a0d70-f140-40ad-c2ac-9d6f4c1aec23"
      },
      "outputs": [
        {
          "output_type": "stream",
          "name": "stdout",
          "text": [
            "Requirement already satisfied: rarfile in /usr/local/lib/python3.10/dist-packages (4.2)\n"
          ]
        }
      ],
      "source": [
        "!pip install rarfile"
      ]
    },
    {
      "cell_type": "code",
      "source": [
        "!pip install requests"
      ],
      "metadata": {
        "colab": {
          "base_uri": "https://localhost:8080/"
        },
        "id": "Y9_cc1rt9f7u",
        "outputId": "cb819ca1-8f50-490a-cf05-0f0a773a6569"
      },
      "execution_count": 45,
      "outputs": [
        {
          "output_type": "stream",
          "name": "stdout",
          "text": [
            "Requirement already satisfied: requests in /usr/local/lib/python3.10/dist-packages (2.31.0)\n",
            "Requirement already satisfied: charset-normalizer<4,>=2 in /usr/local/lib/python3.10/dist-packages (from requests) (3.3.2)\n",
            "Requirement already satisfied: idna<4,>=2.5 in /usr/local/lib/python3.10/dist-packages (from requests) (3.7)\n",
            "Requirement already satisfied: urllib3<3,>=1.21.1 in /usr/local/lib/python3.10/dist-packages (from requests) (2.0.7)\n",
            "Requirement already satisfied: certifi>=2017.4.17 in /usr/local/lib/python3.10/dist-packages (from requests) (2024.7.4)\n"
          ]
        }
      ]
    },
    {
      "cell_type": "code",
      "source": [
        "import rarfile\n",
        "import os\n",
        "\n",
        "rar_file_path = '/content/drive/MyDrive/pdb_links.rar'\n",
        "extract_dir = './'\n",
        "\n",
        "os.makedirs(extract_dir, exist_ok=True)\n",
        "\n",
        "with rarfile.RarFile(rar_file_path) as rf:\n",
        "    rf.extractall(extract_dir)\n",
        "\n",
        "print(f\"Extracted {rar_file_path} to {extract_dir}.\")\n"
      ],
      "metadata": {
        "colab": {
          "base_uri": "https://localhost:8080/"
        },
        "id": "o5qAlHANgQbH",
        "outputId": "3ecc4144-778f-401c-8a68-5304c0a5160e"
      },
      "execution_count": 46,
      "outputs": [
        {
          "output_type": "stream",
          "name": "stdout",
          "text": [
            "Extracted /content/drive/MyDrive/pdb_links.rar to ./.\n"
          ]
        }
      ]
    },
    {
      "cell_type": "code",
      "source": [
        "import os\n",
        "\n",
        "input_folder = 'pdb_links'\n",
        "output_file = 'all_pdbs.txt'\n",
        "\n",
        "txt_files = [f for f in os.listdir(input_folder) if f.endswith('.txt')]\n",
        "\n",
        "with open(output_file, 'w') as outfile:\n",
        "    for txt_file in txt_files:\n",
        "        file_path = os.path.join(input_folder, txt_file)\n",
        "\n",
        "        with open(file_path, 'r') as infile:\n",
        "            content = infile.read()\n",
        "            outfile.write(content + '\\n')\n",
        "\n",
        "print(f\"All text files have been merged into {output_file}.\")\n"
      ],
      "metadata": {
        "colab": {
          "base_uri": "https://localhost:8080/"
        },
        "id": "dSHrvdB0hz5q",
        "outputId": "a7e34f9b-445c-4e12-ae25-020afb0279bd"
      },
      "execution_count": 47,
      "outputs": [
        {
          "output_type": "stream",
          "name": "stdout",
          "text": [
            "All text files have been merged into all_pdbs.txt.\n"
          ]
        }
      ]
    },
    {
      "cell_type": "code",
      "source": [
        "!pip install requests beautifulsoup4 pandas biopython\n"
      ],
      "metadata": {
        "colab": {
          "base_uri": "https://localhost:8080/"
        },
        "id": "UaO9fjAHsfNy",
        "outputId": "cf0fe46d-316e-477d-8a6e-705429f19564"
      },
      "execution_count": 48,
      "outputs": [
        {
          "output_type": "stream",
          "name": "stdout",
          "text": [
            "Requirement already satisfied: requests in /usr/local/lib/python3.10/dist-packages (2.31.0)\n",
            "Requirement already satisfied: beautifulsoup4 in /usr/local/lib/python3.10/dist-packages (4.12.3)\n",
            "Requirement already satisfied: pandas in /usr/local/lib/python3.10/dist-packages (2.0.3)\n",
            "Requirement already satisfied: biopython in /usr/local/lib/python3.10/dist-packages (1.84)\n",
            "Requirement already satisfied: charset-normalizer<4,>=2 in /usr/local/lib/python3.10/dist-packages (from requests) (3.3.2)\n",
            "Requirement already satisfied: idna<4,>=2.5 in /usr/local/lib/python3.10/dist-packages (from requests) (3.7)\n",
            "Requirement already satisfied: urllib3<3,>=1.21.1 in /usr/local/lib/python3.10/dist-packages (from requests) (2.0.7)\n",
            "Requirement already satisfied: certifi>=2017.4.17 in /usr/local/lib/python3.10/dist-packages (from requests) (2024.7.4)\n",
            "Requirement already satisfied: soupsieve>1.2 in /usr/local/lib/python3.10/dist-packages (from beautifulsoup4) (2.5)\n",
            "Requirement already satisfied: python-dateutil>=2.8.2 in /usr/local/lib/python3.10/dist-packages (from pandas) (2.8.2)\n",
            "Requirement already satisfied: pytz>=2020.1 in /usr/local/lib/python3.10/dist-packages (from pandas) (2023.4)\n",
            "Requirement already satisfied: tzdata>=2022.1 in /usr/local/lib/python3.10/dist-packages (from pandas) (2024.1)\n",
            "Requirement already satisfied: numpy>=1.21.0 in /usr/local/lib/python3.10/dist-packages (from pandas) (1.25.2)\n",
            "Requirement already satisfied: six>=1.5 in /usr/local/lib/python3.10/dist-packages (from python-dateutil>=2.8.2->pandas) (1.16.0)\n"
          ]
        }
      ]
    },
    {
      "cell_type": "code",
      "source": [
        "with open('all_pdbs.txt', 'r') as file:\n",
        "    pdb_ids = file.read().strip().split(',')\n",
        "\n",
        "print(f\"Loaded {len(pdb_ids)} PDB IDs.\")\n"
      ],
      "metadata": {
        "colab": {
          "base_uri": "https://localhost:8080/"
        },
        "id": "8eLs3EepuAub",
        "outputId": "f0ce843c-8797-4240-a352-b3b657d687b5"
      },
      "execution_count": 49,
      "outputs": [
        {
          "output_type": "stream",
          "name": "stdout",
          "text": [
            "Loaded 222602 PDB IDs.\n"
          ]
        }
      ]
    },
    {
      "cell_type": "code",
      "source": [
        "!pip install beautifulsoup4 lxml\n"
      ],
      "metadata": {
        "colab": {
          "base_uri": "https://localhost:8080/"
        },
        "id": "_28WrYpSyEID",
        "outputId": "25f700f1-8817-427a-eed9-48c9d36e57bf"
      },
      "execution_count": 50,
      "outputs": [
        {
          "output_type": "stream",
          "name": "stdout",
          "text": [
            "Requirement already satisfied: beautifulsoup4 in /usr/local/lib/python3.10/dist-packages (4.12.3)\n",
            "Requirement already satisfied: lxml in /usr/local/lib/python3.10/dist-packages (4.9.4)\n",
            "Requirement already satisfied: soupsieve>1.2 in /usr/local/lib/python3.10/dist-packages (from beautifulsoup4) (2.5)\n"
          ]
        }
      ]
    },
    {
      "cell_type": "code",
      "source": [
        "import json"
      ],
      "metadata": {
        "id": "XXvhyhx_kDc8"
      },
      "execution_count": 51,
      "outputs": []
    },
    {
      "cell_type": "code",
      "source": [
        "import requests\n",
        "import pandas as pd\n",
        "\n",
        "def fetch_publications(pdb_id):\n",
        "    uniprot_search_url = f\"https://rest.uniprot.org/uniprotkb/search?query=(xref:pdb-{pdb_id})\"\n",
        "    response = requests.get(uniprot_search_url)\n",
        "    if response.status_code == 200:\n",
        "        r = response.text\n",
        "        json_object = json.loads(r)\n",
        "\n",
        "        publications = []\n",
        "\n",
        "        if 'results' in json_object:\n",
        "            if 'references' in json_object['results'][0]:\n",
        "                for ref in json_object['results'][0]['references']:\n",
        "                    if 'citation' in ref:\n",
        "                        if 'title' in ref['citation']:\n",
        "                            publications.append(ref['citation']['title'])\n",
        "\n",
        "        if len(publications) > 2:\n",
        "          return publications[:2]\n",
        "        else:\n",
        "          return publications\n",
        "    else:\n",
        "        print(f\"Failed to fetch data for PDB ID {pdb_id}\")\n",
        "        return []"
      ],
      "metadata": {
        "id": "CZ974jP7WoQJ"
      },
      "execution_count": 52,
      "outputs": []
    },
    {
      "cell_type": "code",
      "source": [
        "!pip install biopython"
      ],
      "metadata": {
        "colab": {
          "base_uri": "https://localhost:8080/"
        },
        "id": "s3g63sO-b0S_",
        "outputId": "82b2febc-ef78-4ecb-dfc6-c532956df736"
      },
      "execution_count": 53,
      "outputs": [
        {
          "output_type": "stream",
          "name": "stdout",
          "text": [
            "Requirement already satisfied: biopython in /usr/local/lib/python3.10/dist-packages (1.84)\n",
            "Requirement already satisfied: numpy in /usr/local/lib/python3.10/dist-packages (from biopython) (1.25.2)\n"
          ]
        }
      ]
    },
    {
      "cell_type": "code",
      "source": [
        "from Bio import Entrez\n",
        "\n",
        "def get_pubmed_abstracts(paper_titles):\n",
        "    Entrez.email = 'm.zandieh7878@gmail.com'\n",
        "    abstracts = []\n",
        "    for title in paper_titles:\n",
        "        handle = Entrez.esearch(db=\"pubmed\", term=title, retmax=1)\n",
        "        record = Entrez.read(handle)\n",
        "        id_list = record[\"IdList\"]\n",
        "        if id_list:\n",
        "            pmid = id_list[0]\n",
        "            handle = Entrez.efetch(db=\"pubmed\", id=pmid, rettype=\"abstract\", retmode=\"text\")\n",
        "            abstract = handle.read().strip()\n",
        "            abstracts.append(abstract)\n",
        "        else:\n",
        "            continue\n",
        "\n",
        "    return abstracts\n"
      ],
      "metadata": {
        "id": "Kbg1LNl7b1d9"
      },
      "execution_count": 54,
      "outputs": []
    },
    {
      "cell_type": "code",
      "source": [
        "def process_text(text):\n",
        "    lines = text.split('\\n')\n",
        "\n",
        "    processed_lines = lines[2:]\n",
        "\n",
        "    inside_author_info = False\n",
        "    inside_text = False\n",
        "    final_lines = []\n",
        "    for line in processed_lines:\n",
        "        if \"author information:\" in line:\n",
        "            final_lines.pop()\n",
        "            for item in final_lines[::-1]:\n",
        "                if item.strip() != \"\":\n",
        "                    final_lines.pop()\n",
        "                else:\n",
        "                  break\n",
        "\n",
        "            inside_author_info = True\n",
        "        if inside_author_info and line.strip() == \"\":\n",
        "            inside_author_info = False\n",
        "            inside_text = True\n",
        "            continue\n",
        "        if inside_text and line.strip() == \"\":\n",
        "            break\n",
        "\n",
        "        if not inside_author_info and not line.startswith((\"doi\", \"pmid\", \"copyright\")):\n",
        "            final_lines.append(line)\n",
        "    return '\\n'.join(final_lines)\n"
      ],
      "metadata": {
        "id": "Sapwl_4Rlm3S"
      },
      "execution_count": 55,
      "outputs": []
    },
    {
      "cell_type": "code",
      "source": [
        "def get_abst(pdb_id):\n",
        "    abstracts = get_pubmed_abstracts(fetch_publications(pdb_id))\n",
        "    abstracts2 = []\n",
        "    for item in abstracts:\n",
        "      abstracts2.append(process_text(item.lower()).strip())\n",
        "    return abstracts2"
      ],
      "metadata": {
        "id": "q0NbmyehoTCg"
      },
      "execution_count": 56,
      "outputs": []
    },
    {
      "cell_type": "code",
      "source": [
        "def fetch_uniprot_data(pdb_id):\n",
        "    uniprot_search_url = f\"https://rest.uniprot.org/uniprotkb/search?query=(xref:pdb-{pdb_id})&fields=protein_name,cc_function\"\n",
        "    response = requests.get(uniprot_search_url)\n",
        "    if response.status_code == 200:\n",
        "        r = response.text\n",
        "        json_object = json.loads(r)\n",
        "        if json_object.get('results'):\n",
        "          protein_name = None\n",
        "          if 'proteinDescription' in json_object['results'][0] and \\\n",
        "             'recommendedName' in json_object['results'][0]['proteinDescription'] and \\\n",
        "             'fullName' in json_object['results'][0]['proteinDescription']['recommendedName']:\n",
        "              protein_name = json_object['results'][0]['proteinDescription']['recommendedName']['fullName']['value']\n",
        "\n",
        "\n",
        "          function_text = \"\"\n",
        "\n",
        "          if 'comments' in json_object['results'][0]:\n",
        "            for comment in json_object['results'][0]['comments']:\n",
        "                if comment['commentType'] == \"FUNCTION\":\n",
        "                    function_text = comment['texts'][0]['value']\n",
        "                    break\n",
        "\n",
        "          protein_function = function_text\n",
        "          protein_id = json_object['results'][0]['primaryAccession']\n",
        "\n",
        "          if not protein_name:\n",
        "            return None, None, None\n",
        "\n",
        "          if protein_function:\n",
        "            return protein_id, protein_name, protein_function\n",
        "          else:\n",
        "            return None, None, None\n",
        "\n",
        "    return None, None, None"
      ],
      "metadata": {
        "id": "ikT3OLqIkCEw"
      },
      "execution_count": 57,
      "outputs": []
    },
    {
      "cell_type": "code",
      "source": [
        "!apt-get install dssp"
      ],
      "metadata": {
        "id": "GNr3EZ8BK4Wp",
        "outputId": "06d054d4-73c9-4019-9b33-d887ef3dff43",
        "colab": {
          "base_uri": "https://localhost:8080/"
        }
      },
      "execution_count": 58,
      "outputs": [
        {
          "output_type": "stream",
          "name": "stdout",
          "text": [
            "Reading package lists... Done\n",
            "Building dependency tree... Done\n",
            "Reading state information... Done\n",
            "dssp is already the newest version (4.0.4-1).\n",
            "0 upgraded, 0 newly installed, 0 to remove and 45 not upgraded.\n"
          ]
        }
      ]
    },
    {
      "cell_type": "code",
      "source": [
        "!pip install biopython"
      ],
      "metadata": {
        "id": "oTqJ5cjMbEcv",
        "outputId": "fe733c42-36a6-42b6-a2d0-67eda7388a14",
        "colab": {
          "base_uri": "https://localhost:8080/"
        }
      },
      "execution_count": 59,
      "outputs": [
        {
          "output_type": "stream",
          "name": "stdout",
          "text": [
            "Requirement already satisfied: biopython in /usr/local/lib/python3.10/dist-packages (1.84)\n",
            "Requirement already satisfied: numpy in /usr/local/lib/python3.10/dist-packages (from biopython) (1.25.2)\n"
          ]
        }
      ]
    },
    {
      "cell_type": "code",
      "source": [
        "import subprocess\n",
        "from Bio.PDB import PDBParser, DSSP\n",
        "def parse_dssp(file_path):\n",
        "    with open(file_path, 'r') as f:\n",
        "        lines = f.readlines()\n",
        "\n",
        "    start = False\n",
        "    secondary_structure = []\n",
        "    for line in lines:\n",
        "        if line.startswith(\"  #  RESIDUE AA STRUCTURE\"):\n",
        "            start = True\n",
        "            continue\n",
        "        if start:\n",
        "            aa = line[13]\n",
        "            ss = line[16]\n",
        "            if ss == \" \":\n",
        "                ss = \"C\"\n",
        "            secondary_structure.append((aa, ss))\n",
        "\n",
        "    return secondary_structure\n",
        "\n",
        "def fetch_secondary_structure1(pdb_id):\n",
        "    !wget https://files.rcsb.org/download/{pdb_id}.pdb\n",
        "\n",
        "    parser = PDBParser()\n",
        "    structure = parser.get_structure(pdb_id, f\"{pdb_id}.pdb\")\n",
        "\n",
        "    model = structure[0]\n",
        "    dssp = DSSP(model, f\"{pdb_id}.pdb\")\n",
        "\n",
        "    secondary_structure_q8 = [(dssp[key][1], dssp[key][2]) for key in dssp.keys()]\n",
        "\n",
        "    return secondary_structure_q8\n"
      ],
      "metadata": {
        "id": "2xdEkV0dLx-D"
      },
      "execution_count": 60,
      "outputs": []
    },
    {
      "cell_type": "code",
      "source": [
        "def fetch_secondary_structure(pdb_id):\n",
        "    pdb_file = f\"{pdb_id}.pdb\"\n",
        "    dssp_output = f\"{pdb_id}.dssp\"\n",
        "\n",
        "    result = subprocess.run([\"wget\", f\"https://files.rcsb.org/download/{pdb_id}.pdb\"], capture_output=True, text=True)\n",
        "    if result.returncode != 0:\n",
        "        return None\n",
        "\n",
        "    try:\n",
        "        subprocess.run([\"mkdssp\", \"-i\", pdb_file, \"-o\", dssp_output])\n",
        "\n",
        "        parser = PDBParser()\n",
        "        structure = parser.get_structure(pdb_id, pdb_file)\n",
        "\n",
        "        model = structure[0]\n",
        "        dssp = DSSP(model, pdb_file)\n",
        "\n",
        "        secondary_structure_q8 = [(dssp[key][1], dssp[key][2]) for key in dssp.keys()]\n",
        "    except Exception as e:\n",
        "        print(f\"Error processing PDB file for {pdb_id}: {e}\")\n",
        "        return None, None\n",
        "    finally:\n",
        "        if os.path.exists(pdb_file):\n",
        "            os.remove(pdb_file)\n",
        "        if os.path.exists(dssp_output):\n",
        "            os.remove(dssp_output)\n",
        "\n",
        "    return secondary_structure_q8\n"
      ],
      "metadata": {
        "id": "m35VBDPQgWVy"
      },
      "execution_count": 61,
      "outputs": []
    },
    {
      "cell_type": "code",
      "source": [
        "import shutil\n",
        "\n",
        "def run(start, end):\n",
        "    data = []\n",
        "    i = 0\n",
        "    for pdb_id in pdb_ids[start:end]:\n",
        "        i += 1\n",
        "        print(i, '/', end - start)\n",
        "\n",
        "        uniprot_id, protein_names, functions = fetch_uniprot_data(pdb_id)\n",
        "        if not functions:\n",
        "            continue\n",
        "        secondary_structures_q8 = fetch_secondary_structure(pdb_id)\n",
        "        abstracts = get_abst(pdb_id)\n",
        "        data.append([pdb_id, protein_names, uniprot_id, functions, ' '.join(abstracts), secondary_structures_q8])\n",
        "\n",
        "    df = pd.DataFrame(data, columns=['PDB ID', 'Protein Name', 'UniProt ID', 'Functionality', 'Publications', 'Secondary Structures Q8'])\n",
        "    filename = f'protein_data_{start}-{end}.csv'\n",
        "    df.to_csv(filename, index=False)\n",
        "\n",
        "    print(f\"Data has been saved to {filename}.\")\n",
        "\n",
        "    drive_dir = '/content/drive/My Drive/nlp_final_dataset'\n",
        "    if not os.path.exists(drive_dir):\n",
        "        os.makedirs(drive_dir)\n",
        "    shutil.move(filename, os.path.join(drive_dir, filename))"
      ],
      "metadata": {
        "id": "7PEljWKSS7Ws"
      },
      "execution_count": 62,
      "outputs": []
    },
    {
      "cell_type": "code",
      "source": [
        "import re\n",
        "\n",
        "drive_dir = '/content/drive/My Drive/nlp_final_dataset'\n",
        "\n",
        "\n",
        "chunk_size = 100\n",
        "s = 0\n",
        "e = 45000\n",
        "\n",
        "\n",
        "for filename in os.listdir(drive_dir):\n",
        "  match = re.search(r'(\\d+)-(\\d+)', filename)\n",
        "  if match:\n",
        "    number1 = int(match.group(1))\n",
        "    number2 = int(match.group(2))\n",
        "    s = max(s, number1, number2)\n",
        "\n",
        "for start in range(s, e, chunk_size):\n",
        "    print('step number ',int(start/chunk_size)+1,' of ',int(e/chunk_size), ' started.')\n",
        "    end = min(start + chunk_size, len(pdb_ids))\n",
        "    run(start, end)"
      ],
      "metadata": {
        "colab": {
          "base_uri": "https://localhost:8080/",
          "height": 515
        },
        "id": "9YU-r-5tx8Xc",
        "outputId": "c5e8a608-deac-4607-9487-a725053f1dd1"
      },
      "execution_count": 63,
      "outputs": [
        {
          "output_type": "stream",
          "name": "stdout",
          "text": [
            "step number  1  of  45000  started.\n",
            "1 / 1\n",
            "Data has been saved to protein_data_0-1.csv.\n",
            "step number  2  of  45000  started.\n",
            "1 / 1\n",
            "Data has been saved to protein_data_1-2.csv.\n",
            "step number  3  of  45000  started.\n",
            "1 / 1\n"
          ]
        },
        {
          "output_type": "stream",
          "name": "stderr",
          "text": [
            "/usr/local/lib/python3.10/dist-packages/Bio/PDB/StructureBuilder.py:100: PDBConstructionWarning: WARNING: Chain D is discontinuous at line 27761.\n",
            "  warnings.warn(\n"
          ]
        },
        {
          "output_type": "error",
          "ename": "KeyboardInterrupt",
          "evalue": "",
          "traceback": [
            "\u001b[0;31m---------------------------------------------------------------------------\u001b[0m",
            "\u001b[0;31mKeyboardInterrupt\u001b[0m                         Traceback (most recent call last)",
            "\u001b[0;32m<ipython-input-63-a81befbfb7d9>\u001b[0m in \u001b[0;36m<cell line: 18>\u001b[0;34m()\u001b[0m\n\u001b[1;32m     19\u001b[0m     \u001b[0mprint\u001b[0m\u001b[0;34m(\u001b[0m\u001b[0;34m'step number '\u001b[0m\u001b[0;34m,\u001b[0m\u001b[0mint\u001b[0m\u001b[0;34m(\u001b[0m\u001b[0mstart\u001b[0m\u001b[0;34m/\u001b[0m\u001b[0mchunk_size\u001b[0m\u001b[0;34m)\u001b[0m\u001b[0;34m+\u001b[0m\u001b[0;36m1\u001b[0m\u001b[0;34m,\u001b[0m\u001b[0;34m' of '\u001b[0m\u001b[0;34m,\u001b[0m\u001b[0mint\u001b[0m\u001b[0;34m(\u001b[0m\u001b[0me\u001b[0m\u001b[0;34m/\u001b[0m\u001b[0mchunk_size\u001b[0m\u001b[0;34m)\u001b[0m\u001b[0;34m,\u001b[0m \u001b[0;34m' started.'\u001b[0m\u001b[0;34m)\u001b[0m\u001b[0;34m\u001b[0m\u001b[0;34m\u001b[0m\u001b[0m\n\u001b[1;32m     20\u001b[0m     \u001b[0mend\u001b[0m \u001b[0;34m=\u001b[0m \u001b[0mmin\u001b[0m\u001b[0;34m(\u001b[0m\u001b[0mstart\u001b[0m \u001b[0;34m+\u001b[0m \u001b[0mchunk_size\u001b[0m\u001b[0;34m,\u001b[0m \u001b[0mlen\u001b[0m\u001b[0;34m(\u001b[0m\u001b[0mpdb_ids\u001b[0m\u001b[0;34m)\u001b[0m\u001b[0;34m)\u001b[0m\u001b[0;34m\u001b[0m\u001b[0;34m\u001b[0m\u001b[0m\n\u001b[0;32m---> 21\u001b[0;31m     \u001b[0mrun\u001b[0m\u001b[0;34m(\u001b[0m\u001b[0mstart\u001b[0m\u001b[0;34m,\u001b[0m \u001b[0mend\u001b[0m\u001b[0;34m)\u001b[0m\u001b[0;34m\u001b[0m\u001b[0;34m\u001b[0m\u001b[0m\n\u001b[0m",
            "\u001b[0;32m<ipython-input-62-9afdcb9d011b>\u001b[0m in \u001b[0;36mrun\u001b[0;34m(start, end)\u001b[0m\n\u001b[1;32m     11\u001b[0m         \u001b[0;32mif\u001b[0m \u001b[0;32mnot\u001b[0m \u001b[0mfunctions\u001b[0m\u001b[0;34m:\u001b[0m\u001b[0;34m\u001b[0m\u001b[0;34m\u001b[0m\u001b[0m\n\u001b[1;32m     12\u001b[0m             \u001b[0;32mcontinue\u001b[0m\u001b[0;34m\u001b[0m\u001b[0;34m\u001b[0m\u001b[0m\n\u001b[0;32m---> 13\u001b[0;31m         \u001b[0msecondary_structures_q8\u001b[0m \u001b[0;34m=\u001b[0m \u001b[0mfetch_secondary_structure\u001b[0m\u001b[0;34m(\u001b[0m\u001b[0mpdb_id\u001b[0m\u001b[0;34m)\u001b[0m\u001b[0;34m\u001b[0m\u001b[0;34m\u001b[0m\u001b[0m\n\u001b[0m\u001b[1;32m     14\u001b[0m         \u001b[0mabstracts\u001b[0m \u001b[0;34m=\u001b[0m \u001b[0mget_abst\u001b[0m\u001b[0;34m(\u001b[0m\u001b[0mpdb_id\u001b[0m\u001b[0;34m)\u001b[0m\u001b[0;34m\u001b[0m\u001b[0;34m\u001b[0m\u001b[0m\n\u001b[1;32m     15\u001b[0m         \u001b[0mdata\u001b[0m\u001b[0;34m.\u001b[0m\u001b[0mappend\u001b[0m\u001b[0;34m(\u001b[0m\u001b[0;34m[\u001b[0m\u001b[0mpdb_id\u001b[0m\u001b[0;34m,\u001b[0m \u001b[0mprotein_names\u001b[0m\u001b[0;34m,\u001b[0m \u001b[0muniprot_id\u001b[0m\u001b[0;34m,\u001b[0m \u001b[0mfunctions\u001b[0m\u001b[0;34m,\u001b[0m \u001b[0;34m' '\u001b[0m\u001b[0;34m.\u001b[0m\u001b[0mjoin\u001b[0m\u001b[0;34m(\u001b[0m\u001b[0mabstracts\u001b[0m\u001b[0;34m)\u001b[0m\u001b[0;34m,\u001b[0m \u001b[0msecondary_structures_q8\u001b[0m\u001b[0;34m]\u001b[0m\u001b[0;34m)\u001b[0m\u001b[0;34m\u001b[0m\u001b[0;34m\u001b[0m\u001b[0m\n",
            "\u001b[0;32m<ipython-input-61-de69123d8db5>\u001b[0m in \u001b[0;36mfetch_secondary_structure\u001b[0;34m(pdb_id)\u001b[0m\n\u001b[1;32m     14\u001b[0m \u001b[0;34m\u001b[0m\u001b[0m\n\u001b[1;32m     15\u001b[0m         \u001b[0mmodel\u001b[0m \u001b[0;34m=\u001b[0m \u001b[0mstructure\u001b[0m\u001b[0;34m[\u001b[0m\u001b[0;36m0\u001b[0m\u001b[0;34m]\u001b[0m\u001b[0;34m\u001b[0m\u001b[0;34m\u001b[0m\u001b[0m\n\u001b[0;32m---> 16\u001b[0;31m         \u001b[0mdssp\u001b[0m \u001b[0;34m=\u001b[0m \u001b[0mDSSP\u001b[0m\u001b[0;34m(\u001b[0m\u001b[0mmodel\u001b[0m\u001b[0;34m,\u001b[0m \u001b[0mpdb_file\u001b[0m\u001b[0;34m)\u001b[0m\u001b[0;34m\u001b[0m\u001b[0;34m\u001b[0m\u001b[0m\n\u001b[0m\u001b[1;32m     17\u001b[0m \u001b[0;34m\u001b[0m\u001b[0m\n\u001b[1;32m     18\u001b[0m         \u001b[0msecondary_structure_q8\u001b[0m \u001b[0;34m=\u001b[0m \u001b[0;34m[\u001b[0m\u001b[0;34m(\u001b[0m\u001b[0mdssp\u001b[0m\u001b[0;34m[\u001b[0m\u001b[0mkey\u001b[0m\u001b[0;34m]\u001b[0m\u001b[0;34m[\u001b[0m\u001b[0;36m1\u001b[0m\u001b[0;34m]\u001b[0m\u001b[0;34m,\u001b[0m \u001b[0mdssp\u001b[0m\u001b[0;34m[\u001b[0m\u001b[0mkey\u001b[0m\u001b[0;34m]\u001b[0m\u001b[0;34m[\u001b[0m\u001b[0;36m2\u001b[0m\u001b[0;34m]\u001b[0m\u001b[0;34m)\u001b[0m \u001b[0;32mfor\u001b[0m \u001b[0mkey\u001b[0m \u001b[0;32min\u001b[0m \u001b[0mdssp\u001b[0m\u001b[0;34m.\u001b[0m\u001b[0mkeys\u001b[0m\u001b[0;34m(\u001b[0m\u001b[0;34m)\u001b[0m\u001b[0;34m]\u001b[0m\u001b[0;34m\u001b[0m\u001b[0;34m\u001b[0m\u001b[0m\n",
            "\u001b[0;32m/usr/local/lib/python3.10/dist-packages/Bio/PDB/DSSP.py\u001b[0m in \u001b[0;36m__init__\u001b[0;34m(self, model, in_file, dssp, acc_array, file_type)\u001b[0m\n\u001b[1;32m    385\u001b[0m                 \u001b[0mversion_string\u001b[0m \u001b[0;34m=\u001b[0m \u001b[0msubprocess\u001b[0m\u001b[0;34m.\u001b[0m\u001b[0mcheck_output\u001b[0m\u001b[0;34m(\u001b[0m\u001b[0;34m[\u001b[0m\u001b[0mdssp\u001b[0m\u001b[0;34m,\u001b[0m \u001b[0;34m\"--version\"\u001b[0m\u001b[0;34m]\u001b[0m\u001b[0;34m,\u001b[0m \u001b[0mtext\u001b[0m\u001b[0;34m=\u001b[0m\u001b[0;32mTrue\u001b[0m\u001b[0;34m)\u001b[0m\u001b[0;34m\u001b[0m\u001b[0;34m\u001b[0m\u001b[0m\n\u001b[1;32m    386\u001b[0m                 \u001b[0mdssp_version\u001b[0m \u001b[0;34m=\u001b[0m \u001b[0mre\u001b[0m\u001b[0;34m.\u001b[0m\u001b[0msearch\u001b[0m\u001b[0;34m(\u001b[0m\u001b[0;34mr\"\\s*([\\d.]+)\"\u001b[0m\u001b[0;34m,\u001b[0m \u001b[0mversion_string\u001b[0m\u001b[0;34m)\u001b[0m\u001b[0;34m.\u001b[0m\u001b[0mgroup\u001b[0m\u001b[0;34m(\u001b[0m\u001b[0;36m1\u001b[0m\u001b[0;34m)\u001b[0m\u001b[0;34m\u001b[0m\u001b[0;34m\u001b[0m\u001b[0m\n\u001b[0;32m--> 387\u001b[0;31m                 dssp_dict, dssp_keys = dssp_dict_from_pdb_file(\n\u001b[0m\u001b[1;32m    388\u001b[0m                     \u001b[0min_file\u001b[0m\u001b[0;34m,\u001b[0m \u001b[0mdssp\u001b[0m\u001b[0;34m,\u001b[0m \u001b[0mdssp_version\u001b[0m\u001b[0;34m\u001b[0m\u001b[0;34m\u001b[0m\u001b[0m\n\u001b[1;32m    389\u001b[0m                 )\n",
            "\u001b[0;32m/usr/local/lib/python3.10/dist-packages/Bio/PDB/DSSP.py\u001b[0m in \u001b[0;36mdssp_dict_from_pdb_file\u001b[0;34m(in_file, DSSP, dssp_version)\u001b[0m\n\u001b[1;32m    193\u001b[0m             \u001b[0mstderr\u001b[0m\u001b[0;34m=\u001b[0m\u001b[0msubprocess\u001b[0m\u001b[0;34m.\u001b[0m\u001b[0mPIPE\u001b[0m\u001b[0;34m,\u001b[0m\u001b[0;34m\u001b[0m\u001b[0;34m\u001b[0m\u001b[0m\n\u001b[1;32m    194\u001b[0m         )\n\u001b[0;32m--> 195\u001b[0;31m     \u001b[0mout\u001b[0m\u001b[0;34m,\u001b[0m \u001b[0merr\u001b[0m \u001b[0;34m=\u001b[0m \u001b[0mp\u001b[0m\u001b[0;34m.\u001b[0m\u001b[0mcommunicate\u001b[0m\u001b[0;34m(\u001b[0m\u001b[0;34m)\u001b[0m\u001b[0;34m\u001b[0m\u001b[0;34m\u001b[0m\u001b[0m\n\u001b[0m\u001b[1;32m    196\u001b[0m \u001b[0;34m\u001b[0m\u001b[0m\n\u001b[1;32m    197\u001b[0m     \u001b[0;31m# Alert user for errors\u001b[0m\u001b[0;34m\u001b[0m\u001b[0;34m\u001b[0m\u001b[0m\n",
            "\u001b[0;32m/usr/lib/python3.10/subprocess.py\u001b[0m in \u001b[0;36mcommunicate\u001b[0;34m(self, input, timeout)\u001b[0m\n\u001b[1;32m   1152\u001b[0m \u001b[0;34m\u001b[0m\u001b[0m\n\u001b[1;32m   1153\u001b[0m             \u001b[0;32mtry\u001b[0m\u001b[0;34m:\u001b[0m\u001b[0;34m\u001b[0m\u001b[0;34m\u001b[0m\u001b[0m\n\u001b[0;32m-> 1154\u001b[0;31m                 \u001b[0mstdout\u001b[0m\u001b[0;34m,\u001b[0m \u001b[0mstderr\u001b[0m \u001b[0;34m=\u001b[0m \u001b[0mself\u001b[0m\u001b[0;34m.\u001b[0m\u001b[0m_communicate\u001b[0m\u001b[0;34m(\u001b[0m\u001b[0minput\u001b[0m\u001b[0;34m,\u001b[0m \u001b[0mendtime\u001b[0m\u001b[0;34m,\u001b[0m \u001b[0mtimeout\u001b[0m\u001b[0;34m)\u001b[0m\u001b[0;34m\u001b[0m\u001b[0;34m\u001b[0m\u001b[0m\n\u001b[0m\u001b[1;32m   1155\u001b[0m             \u001b[0;32mexcept\u001b[0m \u001b[0mKeyboardInterrupt\u001b[0m\u001b[0;34m:\u001b[0m\u001b[0;34m\u001b[0m\u001b[0;34m\u001b[0m\u001b[0m\n\u001b[1;32m   1156\u001b[0m                 \u001b[0;31m# https://bugs.python.org/issue25942\u001b[0m\u001b[0;34m\u001b[0m\u001b[0;34m\u001b[0m\u001b[0m\n",
            "\u001b[0;32m/usr/lib/python3.10/subprocess.py\u001b[0m in \u001b[0;36m_communicate\u001b[0;34m(self, input, endtime, orig_timeout)\u001b[0m\n\u001b[1;32m   2019\u001b[0m                             'failed to raise TimeoutExpired.')\n\u001b[1;32m   2020\u001b[0m \u001b[0;34m\u001b[0m\u001b[0m\n\u001b[0;32m-> 2021\u001b[0;31m                     \u001b[0mready\u001b[0m \u001b[0;34m=\u001b[0m \u001b[0mselector\u001b[0m\u001b[0;34m.\u001b[0m\u001b[0mselect\u001b[0m\u001b[0;34m(\u001b[0m\u001b[0mtimeout\u001b[0m\u001b[0;34m)\u001b[0m\u001b[0;34m\u001b[0m\u001b[0;34m\u001b[0m\u001b[0m\n\u001b[0m\u001b[1;32m   2022\u001b[0m                     \u001b[0mself\u001b[0m\u001b[0;34m.\u001b[0m\u001b[0m_check_timeout\u001b[0m\u001b[0;34m(\u001b[0m\u001b[0mendtime\u001b[0m\u001b[0;34m,\u001b[0m \u001b[0morig_timeout\u001b[0m\u001b[0;34m,\u001b[0m \u001b[0mstdout\u001b[0m\u001b[0;34m,\u001b[0m \u001b[0mstderr\u001b[0m\u001b[0;34m)\u001b[0m\u001b[0;34m\u001b[0m\u001b[0;34m\u001b[0m\u001b[0m\n\u001b[1;32m   2023\u001b[0m \u001b[0;34m\u001b[0m\u001b[0m\n",
            "\u001b[0;32m/usr/lib/python3.10/selectors.py\u001b[0m in \u001b[0;36mselect\u001b[0;34m(self, timeout)\u001b[0m\n\u001b[1;32m    414\u001b[0m         \u001b[0mready\u001b[0m \u001b[0;34m=\u001b[0m \u001b[0;34m[\u001b[0m\u001b[0;34m]\u001b[0m\u001b[0;34m\u001b[0m\u001b[0;34m\u001b[0m\u001b[0m\n\u001b[1;32m    415\u001b[0m         \u001b[0;32mtry\u001b[0m\u001b[0;34m:\u001b[0m\u001b[0;34m\u001b[0m\u001b[0;34m\u001b[0m\u001b[0m\n\u001b[0;32m--> 416\u001b[0;31m             \u001b[0mfd_event_list\u001b[0m \u001b[0;34m=\u001b[0m \u001b[0mself\u001b[0m\u001b[0;34m.\u001b[0m\u001b[0m_selector\u001b[0m\u001b[0;34m.\u001b[0m\u001b[0mpoll\u001b[0m\u001b[0;34m(\u001b[0m\u001b[0mtimeout\u001b[0m\u001b[0;34m)\u001b[0m\u001b[0;34m\u001b[0m\u001b[0;34m\u001b[0m\u001b[0m\n\u001b[0m\u001b[1;32m    417\u001b[0m         \u001b[0;32mexcept\u001b[0m \u001b[0mInterruptedError\u001b[0m\u001b[0;34m:\u001b[0m\u001b[0;34m\u001b[0m\u001b[0;34m\u001b[0m\u001b[0m\n\u001b[1;32m    418\u001b[0m             \u001b[0;32mreturn\u001b[0m \u001b[0mready\u001b[0m\u001b[0;34m\u001b[0m\u001b[0;34m\u001b[0m\u001b[0m\n",
            "\u001b[0;31mKeyboardInterrupt\u001b[0m: "
          ]
        }
      ]
    }
  ]
}